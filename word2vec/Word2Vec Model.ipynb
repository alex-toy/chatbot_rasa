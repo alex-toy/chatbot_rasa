{
 "cells": [
  {
   "cell_type": "code",
   "execution_count": 2,
   "metadata": {
    "collapsed": true
   },
   "outputs": [
    {
     "name": "stdout",
     "output_type": "stream",
     "text": [
      "Collecting gensim\n",
      "  Using cached gensim-4.0.1-cp38-cp38-macosx_10_9_x86_64.whl (23.9 MB)\n",
      "Requirement already satisfied: numpy>=1.11.3 in /Library/Frameworks/Python.framework/Versions/3.8/lib/python3.8/site-packages (from gensim) (1.18.5)\n",
      "Requirement already satisfied: scipy>=0.18.1 in /Library/Frameworks/Python.framework/Versions/3.8/lib/python3.8/site-packages (from gensim) (1.5.4)\n",
      "Collecting smart-open>=1.8.1\n",
      "  Downloading smart_open-5.0.0-py3-none-any.whl (56 kB)\n",
      "\u001b[K     |████████████████████████████████| 56 kB 1.3 MB/s eta 0:00:01\n",
      "\u001b[?25hInstalling collected packages: smart-open, gensim\n",
      "Successfully installed gensim-4.0.1 smart-open-5.0.0\n",
      "\u001b[33mWARNING: You are using pip version 20.1.1; however, version 21.1 is available.\n",
      "You should consider upgrading via the '/Library/Frameworks/Python.framework/Versions/3.8/bin/python3.8 -m pip install --upgrade pip' command.\u001b[0m\n",
      "Note: you may need to restart the kernel to use updated packages.\n"
     ]
    }
   ],
   "source": [
    "pip install gensim"
   ]
  },
  {
   "cell_type": "code",
   "execution_count": 3,
   "metadata": {},
   "outputs": [
    {
     "name": "stderr",
     "output_type": "stream",
     "text": [
      "/Library/Frameworks/Python.framework/Versions/3.8/lib/python3.8/site-packages/gensim/similarities/__init__.py:15: UserWarning: The gensim.similarities.levenshtein submodule is disabled, because the optional Levenshtein package <https://pypi.org/project/python-Levenshtein/> is unavailable. Install Levenhstein (e.g. `pip install python-Levenshtein`) to suppress this warning.\n",
      "  warnings.warn(msg)\n"
     ]
    }
   ],
   "source": [
    "from gensim.models import Word2Vec\n",
    "import pandas as pd\n",
    "import os\n",
    "\n",
    "#os.chdir('C:/Users/USER/Documents/Rasa_Chatbot_Course/Rasa_Shopping_bot/external_data')"
   ]
  },
  {
   "cell_type": "code",
   "execution_count": 4,
   "metadata": {},
   "outputs": [],
   "source": [
    "combined_reviews = pd.read_csv(\"reviews_combined_amazon.csv\")"
   ]
  },
  {
   "cell_type": "code",
   "execution_count": 5,
   "metadata": {},
   "outputs": [
    {
     "data": {
      "text/plain": [
       "(24630, 10)"
      ]
     },
     "execution_count": 5,
     "metadata": {},
     "output_type": "execute_result"
    }
   ],
   "source": [
    "combined_reviews.shape"
   ]
  },
  {
   "cell_type": "code",
   "execution_count": 6,
   "metadata": {},
   "outputs": [
    {
     "data": {
      "text/html": [
       "<div>\n",
       "<style scoped>\n",
       "    .dataframe tbody tr th:only-of-type {\n",
       "        vertical-align: middle;\n",
       "    }\n",
       "\n",
       "    .dataframe tbody tr th {\n",
       "        vertical-align: top;\n",
       "    }\n",
       "\n",
       "    .dataframe thead th {\n",
       "        text-align: right;\n",
       "    }\n",
       "</style>\n",
       "<table border=\"1\" class=\"dataframe\">\n",
       "  <thead>\n",
       "    <tr style=\"text-align: right;\">\n",
       "      <th></th>\n",
       "      <th>Unnamed: 0</th>\n",
       "      <th>review_id</th>\n",
       "      <th>product_url</th>\n",
       "      <th>review_author</th>\n",
       "      <th>Verified Buyer</th>\n",
       "      <th>review_title</th>\n",
       "      <th>review_text</th>\n",
       "      <th>stars</th>\n",
       "      <th>date</th>\n",
       "      <th>review votes</th>\n",
       "    </tr>\n",
       "  </thead>\n",
       "  <tbody>\n",
       "    <tr>\n",
       "      <th>0</th>\n",
       "      <td>0</td>\n",
       "      <td>R2883ZZX8S4DBO</td>\n",
       "      <td>https://www.amazon.in/Redmi-6A-Black-2GBRAM-St...</td>\n",
       "      <td>NaN</td>\n",
       "      <td>Yes</td>\n",
       "      <td>Redmi 6A hangs and lags while using. Redmi 5A ...</td>\n",
       "      <td>Redmi 6A has lag problems. This phone is hangi...</td>\n",
       "      <td>3.0 out of 5 stars</td>\n",
       "      <td>Reviewed in India on 30 September 2018</td>\n",
       "      <td>Null</td>\n",
       "    </tr>\n",
       "    <tr>\n",
       "      <th>1</th>\n",
       "      <td>1</td>\n",
       "      <td>R58XXWQ96EJT9</td>\n",
       "      <td>https://www.amazon.in/Redmi-6A-Black-2GBRAM-St...</td>\n",
       "      <td>NaN</td>\n",
       "      <td>Yes</td>\n",
       "      <td>GOOd budget phone, but...</td>\n",
       "      <td>Pros: 1) Decent Video/audio recording with min...</td>\n",
       "      <td>3.0 out of 5 stars</td>\n",
       "      <td>Reviewed in India on 25 October 2018</td>\n",
       "      <td>Null</td>\n",
       "    </tr>\n",
       "    <tr>\n",
       "      <th>2</th>\n",
       "      <td>2</td>\n",
       "      <td>R2MFM9SKZO2BCT</td>\n",
       "      <td>https://www.amazon.in/Redmi-6A-Black-2GBRAM-St...</td>\n",
       "      <td>NaN</td>\n",
       "      <td>Yes</td>\n",
       "      <td>Exceptional value 😍 Perfect phone for any use,...</td>\n",
       "      <td>Love the phone. Everything on it works as expe...</td>\n",
       "      <td>4.0 out of 5 stars</td>\n",
       "      <td>Reviewed in India on 14 November 2018</td>\n",
       "      <td>Null</td>\n",
       "    </tr>\n",
       "    <tr>\n",
       "      <th>3</th>\n",
       "      <td>3</td>\n",
       "      <td>RKCN05H7J4N9D</td>\n",
       "      <td>https://www.amazon.in/Redmi-6A-Black-2GBRAM-St...</td>\n",
       "      <td>NaN</td>\n",
       "      <td>Yes</td>\n",
       "      <td>Bought because of Dual 4g volte(</td>\n",
       "      <td>If u want to gift for parents I think this wil...</td>\n",
       "      <td>5.0 out of 5 stars</td>\n",
       "      <td>Reviewed in India on 30 October 2018</td>\n",
       "      <td>Null</td>\n",
       "    </tr>\n",
       "    <tr>\n",
       "      <th>4</th>\n",
       "      <td>4</td>\n",
       "      <td>RLT2QWB4HQGTJ</td>\n",
       "      <td>https://www.amazon.in/Redmi-6A-Black-2GBRAM-St...</td>\n",
       "      <td>NaN</td>\n",
       "      <td>Yes</td>\n",
       "      <td>Don't buy - 2nd Sim slot problem and battery p...</td>\n",
       "      <td>Don't buy this product. It is not recognizing ...</td>\n",
       "      <td>1.0 out of 5 stars</td>\n",
       "      <td>Reviewed in India on 8 October 2018</td>\n",
       "      <td>Null</td>\n",
       "    </tr>\n",
       "  </tbody>\n",
       "</table>\n",
       "</div>"
      ],
      "text/plain": [
       "   Unnamed: 0       review_id  \\\n",
       "0           0  R2883ZZX8S4DBO   \n",
       "1           1   R58XXWQ96EJT9   \n",
       "2           2  R2MFM9SKZO2BCT   \n",
       "3           3   RKCN05H7J4N9D   \n",
       "4           4   RLT2QWB4HQGTJ   \n",
       "\n",
       "                                         product_url review_author  \\\n",
       "0  https://www.amazon.in/Redmi-6A-Black-2GBRAM-St...           NaN   \n",
       "1  https://www.amazon.in/Redmi-6A-Black-2GBRAM-St...           NaN   \n",
       "2  https://www.amazon.in/Redmi-6A-Black-2GBRAM-St...           NaN   \n",
       "3  https://www.amazon.in/Redmi-6A-Black-2GBRAM-St...           NaN   \n",
       "4  https://www.amazon.in/Redmi-6A-Black-2GBRAM-St...           NaN   \n",
       "\n",
       "  Verified Buyer                                       review_title  \\\n",
       "0            Yes  Redmi 6A hangs and lags while using. Redmi 5A ...   \n",
       "1            Yes                          GOOd budget phone, but...   \n",
       "2            Yes  Exceptional value 😍 Perfect phone for any use,...   \n",
       "3            Yes                   Bought because of Dual 4g volte(   \n",
       "4            Yes  Don't buy - 2nd Sim slot problem and battery p...   \n",
       "\n",
       "                                         review_text               stars  \\\n",
       "0  Redmi 6A has lag problems. This phone is hangi...  3.0 out of 5 stars   \n",
       "1  Pros: 1) Decent Video/audio recording with min...  3.0 out of 5 stars   \n",
       "2  Love the phone. Everything on it works as expe...  4.0 out of 5 stars   \n",
       "3  If u want to gift for parents I think this wil...  5.0 out of 5 stars   \n",
       "4  Don't buy this product. It is not recognizing ...  1.0 out of 5 stars   \n",
       "\n",
       "                                     date review votes  \n",
       "0  Reviewed in India on 30 September 2018         Null  \n",
       "1    Reviewed in India on 25 October 2018         Null  \n",
       "2   Reviewed in India on 14 November 2018         Null  \n",
       "3    Reviewed in India on 30 October 2018         Null  \n",
       "4     Reviewed in India on 8 October 2018         Null  "
      ]
     },
     "execution_count": 6,
     "metadata": {},
     "output_type": "execute_result"
    }
   ],
   "source": [
    "combined_reviews.head()"
   ]
  },
  {
   "cell_type": "code",
   "execution_count": 7,
   "metadata": {},
   "outputs": [],
   "source": [
    "combined_reviews['review_title_text'] = combined_reviews['review_title'].apply(lambda x:str(x)) + \" \" + combined_reviews['review_text'].apply(lambda x:str(x))"
   ]
  },
  {
   "cell_type": "code",
   "execution_count": 8,
   "metadata": {},
   "outputs": [],
   "source": [
    "reviews_title_text_list = combined_reviews['review_title_text'].to_list()"
   ]
  },
  {
   "cell_type": "code",
   "execution_count": 9,
   "metadata": {},
   "outputs": [
    {
     "data": {
      "text/plain": [
       "['Redmi 6A hangs and lags while using. Redmi 5A is better than this phone. Redmi 6A has lag problems. This phone is hanging and lags while using YouTube and browser.Redmi 5A is far better than Redmi 6A. I am regretting on my decision for buying this phone. Not satisfied.',\n",
       " \"GOOd budget phone, but... Pros: 1) Decent Video/audio recording with minimum distortion. (noise cancellation is much much better than Redmi 5a) 2) Decent Camera for a budget phone. 3) good for Android smartphone beginners. 4) Can run 3-4 apps in the background without lag/hanging. 5) Fast boot. 6) Good touch response for a budget phone, I find it to extra sensitive. hahaCons: 1) Bad Video quality for watching movies/ you tube. But I use phone only for calls, whatsapp and sometimes Instagram. I use my laptop to watch movies, so not a big deal for me. 2) Unable to share Internet hotspot to computer/Laptop. But I posted a tip on how to solve this problem in MI community India. All you need to do is download an app called PDANet+ (available in Google play store) in both your phone and computer. Go and check it out. Apart from the few drawbacks mentioned above, this phone is quite good for a budget phone. If you can live without the good video quality by watching movies/videos on another device, go for it. The 1440X720 resolution is much worse compared to Redmi 5a's 1280X720. In fact Redmi 5a's video/picture resolution is much better and detailed compared to Redmi 6a. Ordered and received another redmi 6a for my dad.\",\n",
       " \"Exceptional value 😍 Perfect phone for any use, beautifully built. Love the phone. Everything on it works as expected. I've been using this phone for about 1 weeks, and so far I'm loving it. Here's me breakdown:The quality, fit and finish are amazing. No one believes this is low priced phone.Battery: exceptional battery life, the best in any smartphone I've had so far.Build/design: one of the best smartphone designs and build quality I've used, even compared to much more expensive models.Camera: not as good as my Honor 7C, but still takes good enough pictures that it's not really a problem for me.Really littil bit difficult to find fault with this phone, especially for the price even I don't like the audio quality. overall Best Product. Durable solid feel, very responsive and works great overall.\",\n",
       " \"Bought because of Dual 4g volte( If u want to gift for parents I think this will be good option.This phone is not for heavy users that doesn't mean that u cannot use this for daily use .Yes u can use but playing heavy games like pubg etc will impact the performance.For the price this phone is good.Pros: Build quality is decent,Camera is good both front and back for this price ,display is good,decent battery life,Dual 4g volte ...Cons: Performance is average not the best in this price range but for daily use this will phone will be good.Should have provided case or screen guard in the box.I am not the big fan of miui (It is personal preference)Annoying Ads in miui .(Hope this comment is helpful)\",\n",
       " \"Don't buy - 2nd Sim slot problem and battery problem. Go for other mobiles. Don't buy this product. It is not recognizing the second Sim. Its a different and a saperate slot for 2nd sim unlike the other phones and the phone is not recognizing the 2nd slot. It's better if both the SIM cards are placed in single slot. Battery backup is very low, you will need to charge twice daily.\",\n",
       " \"A budget Smart Phone ❤ It's a very good choice on a small budget. I tell You Why...Screen -IPS Screen with HD+ (720*1440) Display , It looks very NiceEasy to read in Day Light.Note - Mobile screen has round shape (but screen shot has corners , IDK how)Battery -I have submitted screen shots about battery uses (It is without sim card)It took 19 hours, from 100 percent to 81 percent (with screen on 33 minutes and with no sim card)So in my opinion battery is decent enough for a day useCamera -I have submitted the photo sample . You can check in ti photos . these photos are taken in day lightcamera is good for day light shooting.SoundSound quality is good, in Speaker as well as in earphone (Earphone is not provided with handset)Phone speaker is loud enough to fill a roomOS and UIComes with android version 8.1 😊UI is Great , Easy to understand.It comes with some unnecessary pre-loaded apps which can be deleted (but not the MI apps)Network CallingI have used it in whatsapp calling only and the voice clarity was good, no issue.I will update my review after 1-2 weeks of use .Recommended ?Yes, Best smart phone according to the budget.\",\n",
       " \"Extremely poor camera. The cameras both front and rear are a huge disappointment as compared to redmi 4 and redmi 5a. I fail to understand how they could deteriorate it from previous phones. Portrait mode doesn't work properly either. I don't expect the camera of S8 or iPhone in 6000 but other phones in the same price range certainly have better to offer. Other features work well but I was really let down with the camera this time.\",\n",
       " 'Processor issue Processor is so bad.and not working properly.so please note this point.otherwise redmi 5a processor is so good',\n",
       " 'Pretty decent overall performance Awesome entry level smartphone. Face unlock works a bit slow. But okay. The processor is less power consuming. Full screen display works like charm. A five star for 1.5 day delivery by Amazon. Redmi has lot improved in the music quality section. Pretty decent overall performance. Good choice. Go for it in 6k budget before price rise again.',\n",
       " 'Amazon Mi teller are fraud The phone which I purchased through amazon is a worst, I cannot trust amazon anymore, I purchased Redmi 6A on 12th of Nov. I own the phone tried using it, since its a dual sim, I inserted my two sim, n tried using,the second sim was not detectable, I took out again n tried inserting again,the same thing was showing on, I took the new phone to a mobile shop to show it, den the shopkeeper said the motherboard is not good, so funny the new phone which I purchased was from amazon redmi 6A,is not a good phone, I have kept the phone to change the mother board..worst experience ever...']"
      ]
     },
     "execution_count": 9,
     "metadata": {},
     "output_type": "execute_result"
    }
   ],
   "source": [
    "reviews_title_text_list[0:10]"
   ]
  },
  {
   "cell_type": "code",
   "execution_count": 10,
   "metadata": {},
   "outputs": [],
   "source": [
    "#[['I','bought', 'a', 'phone']]\n",
    "sentence_stream = [doc.split(\" \") for doc in reviews_title_text_list]"
   ]
  },
  {
   "cell_type": "code",
   "execution_count": 11,
   "metadata": {},
   "outputs": [
    {
     "ename": "TypeError",
     "evalue": "sequence item 0: expected a bytes-like object, str found",
     "output_type": "error",
     "traceback": [
      "\u001b[0;31m---------------------------------------------------------------------------\u001b[0m",
      "\u001b[0;31mTypeError\u001b[0m                                 Traceback (most recent call last)",
      "\u001b[0;32m<ipython-input-11-2150078dc169>\u001b[0m in \u001b[0;36m<module>\u001b[0;34m\u001b[0m\n\u001b[1;32m      2\u001b[0m \u001b[0;32mfrom\u001b[0m \u001b[0mgensim\u001b[0m\u001b[0;34m.\u001b[0m\u001b[0mmodels\u001b[0m \u001b[0;32mimport\u001b[0m \u001b[0mPhrases\u001b[0m\u001b[0;34m\u001b[0m\u001b[0;34m\u001b[0m\u001b[0m\n\u001b[1;32m      3\u001b[0m \u001b[0;32mfrom\u001b[0m \u001b[0mgensim\u001b[0m\u001b[0;34m.\u001b[0m\u001b[0mmodels\u001b[0m\u001b[0;34m.\u001b[0m\u001b[0mphrases\u001b[0m \u001b[0;32mimport\u001b[0m \u001b[0mPhraser\u001b[0m\u001b[0;34m\u001b[0m\u001b[0;34m\u001b[0m\u001b[0m\n\u001b[0;32m----> 4\u001b[0;31m \u001b[0mbigram\u001b[0m \u001b[0;34m=\u001b[0m \u001b[0mPhrases\u001b[0m\u001b[0;34m(\u001b[0m\u001b[0msentence_stream\u001b[0m\u001b[0;34m,\u001b[0m \u001b[0mmin_count\u001b[0m\u001b[0;34m=\u001b[0m\u001b[0;36m2\u001b[0m\u001b[0;34m,\u001b[0m\u001b[0mthreshold\u001b[0m \u001b[0;34m=\u001b[0m \u001b[0;36m5\u001b[0m\u001b[0;34m,\u001b[0m \u001b[0mdelimiter\u001b[0m\u001b[0;34m=\u001b[0m\u001b[0;34mb' '\u001b[0m\u001b[0;34m)\u001b[0m\u001b[0;34m\u001b[0m\u001b[0;34m\u001b[0m\u001b[0m\n\u001b[0m\u001b[1;32m      5\u001b[0m \u001b[0mbigram_phraser\u001b[0m \u001b[0;34m=\u001b[0m \u001b[0mPhraser\u001b[0m\u001b[0;34m(\u001b[0m\u001b[0mbigram\u001b[0m\u001b[0;34m)\u001b[0m\u001b[0;34m\u001b[0m\u001b[0;34m\u001b[0m\u001b[0m\n",
      "\u001b[0;32m/Library/Frameworks/Python.framework/Versions/3.8/lib/python3.8/site-packages/gensim/models/phrases.py\u001b[0m in \u001b[0;36m__init__\u001b[0;34m(self, sentences, min_count, threshold, max_vocab_size, delimiter, progress_per, scoring, connector_words)\u001b[0m\n\u001b[1;32m    569\u001b[0m         \u001b[0;32mif\u001b[0m \u001b[0msentences\u001b[0m \u001b[0;32mis\u001b[0m \u001b[0;32mnot\u001b[0m \u001b[0;32mNone\u001b[0m\u001b[0;34m:\u001b[0m\u001b[0;34m\u001b[0m\u001b[0;34m\u001b[0m\u001b[0m\n\u001b[1;32m    570\u001b[0m             \u001b[0mstart\u001b[0m \u001b[0;34m=\u001b[0m \u001b[0mtime\u001b[0m\u001b[0;34m.\u001b[0m\u001b[0mtime\u001b[0m\u001b[0;34m(\u001b[0m\u001b[0;34m)\u001b[0m\u001b[0;34m\u001b[0m\u001b[0;34m\u001b[0m\u001b[0m\n\u001b[0;32m--> 571\u001b[0;31m             \u001b[0mself\u001b[0m\u001b[0;34m.\u001b[0m\u001b[0madd_vocab\u001b[0m\u001b[0;34m(\u001b[0m\u001b[0msentences\u001b[0m\u001b[0;34m)\u001b[0m\u001b[0;34m\u001b[0m\u001b[0;34m\u001b[0m\u001b[0m\n\u001b[0m\u001b[1;32m    572\u001b[0m             \u001b[0mself\u001b[0m\u001b[0;34m.\u001b[0m\u001b[0madd_lifecycle_event\u001b[0m\u001b[0;34m(\u001b[0m\u001b[0;34m\"created\"\u001b[0m\u001b[0;34m,\u001b[0m \u001b[0mmsg\u001b[0m\u001b[0;34m=\u001b[0m\u001b[0;34mf\"built {self} in {time.time() - start:.2f}s\"\u001b[0m\u001b[0;34m)\u001b[0m\u001b[0;34m\u001b[0m\u001b[0;34m\u001b[0m\u001b[0m\n\u001b[1;32m    573\u001b[0m \u001b[0;34m\u001b[0m\u001b[0m\n",
      "\u001b[0;32m/Library/Frameworks/Python.framework/Versions/3.8/lib/python3.8/site-packages/gensim/models/phrases.py\u001b[0m in \u001b[0;36madd_vocab\u001b[0;34m(self, sentences)\u001b[0m\n\u001b[1;32m    648\u001b[0m         \u001b[0;31m# sufficient counts, before being pruned out by the (large) accumulated\u001b[0m\u001b[0;34m\u001b[0m\u001b[0;34m\u001b[0m\u001b[0;34m\u001b[0m\u001b[0m\n\u001b[1;32m    649\u001b[0m         \u001b[0;31m# counts collected in previous learn_vocab runs.\u001b[0m\u001b[0;34m\u001b[0m\u001b[0;34m\u001b[0m\u001b[0;34m\u001b[0m\u001b[0m\n\u001b[0;32m--> 650\u001b[0;31m         min_reduce, vocab, total_words = self._learn_vocab(\n\u001b[0m\u001b[1;32m    651\u001b[0m             \u001b[0msentences\u001b[0m\u001b[0;34m,\u001b[0m \u001b[0mmax_vocab_size\u001b[0m\u001b[0;34m=\u001b[0m\u001b[0mself\u001b[0m\u001b[0;34m.\u001b[0m\u001b[0mmax_vocab_size\u001b[0m\u001b[0;34m,\u001b[0m \u001b[0mdelimiter\u001b[0m\u001b[0;34m=\u001b[0m\u001b[0mself\u001b[0m\u001b[0;34m.\u001b[0m\u001b[0mdelimiter\u001b[0m\u001b[0;34m,\u001b[0m\u001b[0;34m\u001b[0m\u001b[0;34m\u001b[0m\u001b[0m\n\u001b[1;32m    652\u001b[0m             \u001b[0mprogress_per\u001b[0m\u001b[0;34m=\u001b[0m\u001b[0mself\u001b[0m\u001b[0;34m.\u001b[0m\u001b[0mprogress_per\u001b[0m\u001b[0;34m,\u001b[0m \u001b[0mconnector_words\u001b[0m\u001b[0;34m=\u001b[0m\u001b[0mself\u001b[0m\u001b[0;34m.\u001b[0m\u001b[0mconnector_words\u001b[0m\u001b[0;34m,\u001b[0m\u001b[0;34m\u001b[0m\u001b[0;34m\u001b[0m\u001b[0m\n",
      "\u001b[0;32m/Library/Frameworks/Python.framework/Versions/3.8/lib/python3.8/site-packages/gensim/models/phrases.py\u001b[0m in \u001b[0;36m_learn_vocab\u001b[0;34m(sentences, max_vocab_size, delimiter, connector_words, progress_per)\u001b[0m\n\u001b[1;32m    596\u001b[0m                     \u001b[0;32mif\u001b[0m \u001b[0mstart_token\u001b[0m \u001b[0;32mis\u001b[0m \u001b[0;32mnot\u001b[0m \u001b[0;32mNone\u001b[0m\u001b[0;34m:\u001b[0m\u001b[0;34m\u001b[0m\u001b[0;34m\u001b[0m\u001b[0m\n\u001b[1;32m    597\u001b[0m                         \u001b[0mphrase_tokens\u001b[0m \u001b[0;34m=\u001b[0m \u001b[0mitertools\u001b[0m\u001b[0;34m.\u001b[0m\u001b[0mchain\u001b[0m\u001b[0;34m(\u001b[0m\u001b[0;34m[\u001b[0m\u001b[0mstart_token\u001b[0m\u001b[0;34m]\u001b[0m\u001b[0;34m,\u001b[0m \u001b[0min_between\u001b[0m\u001b[0;34m,\u001b[0m \u001b[0;34m[\u001b[0m\u001b[0mword\u001b[0m\u001b[0;34m]\u001b[0m\u001b[0;34m)\u001b[0m\u001b[0;34m\u001b[0m\u001b[0;34m\u001b[0m\u001b[0m\n\u001b[0;32m--> 598\u001b[0;31m                         \u001b[0mjoined_phrase_token\u001b[0m \u001b[0;34m=\u001b[0m \u001b[0mdelimiter\u001b[0m\u001b[0;34m.\u001b[0m\u001b[0mjoin\u001b[0m\u001b[0;34m(\u001b[0m\u001b[0mphrase_tokens\u001b[0m\u001b[0;34m)\u001b[0m\u001b[0;34m\u001b[0m\u001b[0;34m\u001b[0m\u001b[0m\n\u001b[0m\u001b[1;32m    599\u001b[0m                         \u001b[0mvocab\u001b[0m\u001b[0;34m[\u001b[0m\u001b[0mjoined_phrase_token\u001b[0m\u001b[0;34m]\u001b[0m \u001b[0;34m=\u001b[0m \u001b[0mvocab\u001b[0m\u001b[0;34m.\u001b[0m\u001b[0mget\u001b[0m\u001b[0;34m(\u001b[0m\u001b[0mjoined_phrase_token\u001b[0m\u001b[0;34m,\u001b[0m \u001b[0;36m0\u001b[0m\u001b[0;34m)\u001b[0m \u001b[0;34m+\u001b[0m \u001b[0;36m1\u001b[0m\u001b[0;34m\u001b[0m\u001b[0;34m\u001b[0m\u001b[0m\n\u001b[1;32m    600\u001b[0m                     \u001b[0mstart_token\u001b[0m\u001b[0;34m,\u001b[0m \u001b[0min_between\u001b[0m \u001b[0;34m=\u001b[0m \u001b[0mword\u001b[0m\u001b[0;34m,\u001b[0m \u001b[0;34m[\u001b[0m\u001b[0;34m]\u001b[0m  \u001b[0;31m# treat word as both end of a phrase AND beginning of another\u001b[0m\u001b[0;34m\u001b[0m\u001b[0;34m\u001b[0m\u001b[0m\n",
      "\u001b[0;31mTypeError\u001b[0m: sequence item 0: expected a bytes-like object, str found"
     ]
    }
   ],
   "source": [
    "#sentence_steam[0:10]\n",
    "from gensim.models import Phrases\n",
    "from gensim.models.phrases import Phraser\n",
    "bigram = Phrases(sentence_stream, min_count=2,threshold = 5, delimiter=b' ')\n",
    "bigram_phraser = Phraser(bigram)"
   ]
  },
  {
   "cell_type": "code",
   "execution_count": 16,
   "metadata": {},
   "outputs": [],
   "source": [
    "tokens_list = []\n",
    "for sent in sentence_stream:\n",
    "    tokens_ = bigram_phraser[sent]\n",
    "    tokens_list.append(tokens_)"
   ]
  },
  {
   "cell_type": "code",
   "execution_count": 18,
   "metadata": {},
   "outputs": [],
   "source": [
    "#print(tokens_list[0:5])"
   ]
  },
  {
   "cell_type": "code",
   "execution_count": 19,
   "metadata": {},
   "outputs": [],
   "source": [
    "model = Word2Vec(tokens_list, size=200, window=5)"
   ]
  },
  {
   "cell_type": "code",
   "execution_count": 23,
   "metadata": {},
   "outputs": [
    {
     "data": {
      "text/plain": [
       "[('screen size', 0.9959827065467834),\n",
       " ('bright', 0.9928454160690308),\n",
       " ('very responsive', 0.9923312664031982),\n",
       " ('voice quality', 0.9921873807907104),\n",
       " ('nightscape', 0.9921661019325256),\n",
       " ('pro mode', 0.9919527769088745),\n",
       " ('selfies are', 0.9918988943099976),\n",
       " ('especially', 0.9915934801101685),\n",
       " ('screen,', 0.9914027452468872),\n",
       " ('smooth,', 0.9913425445556641)]"
      ]
     },
     "execution_count": 23,
     "metadata": {},
     "output_type": "execute_result"
    }
   ],
   "source": [
    "model.wv.most_similar('lens')"
   ]
  },
  {
   "cell_type": "code",
   "execution_count": 24,
   "metadata": {},
   "outputs": [],
   "source": [
    "model.wv.save_word2vec_format(\"word2vec_shopping.txt\")"
   ]
  },
  {
   "cell_type": "code",
   "execution_count": 25,
   "metadata": {},
   "outputs": [],
   "source": [
    "import gzip\n",
    "\n",
    "fp = open(\"word2vec_shopping.txt\",'rb')\n",
    "data = fp.read()\n",
    "\n",
    "bindata = bytearray(data)\n",
    "\n",
    "with gzip.open(\"word2vec_shopping.txt.gz\",'wb') as f:\n",
    "    f.write(bindata)"
   ]
  },
  {
   "cell_type": "code",
   "execution_count": null,
   "metadata": {},
   "outputs": [],
   "source": []
  }
 ],
 "metadata": {
  "kernelspec": {
   "display_name": "Python 3",
   "language": "python",
   "name": "python3"
  },
  "language_info": {
   "codemirror_mode": {
    "name": "ipython",
    "version": 3
   },
   "file_extension": ".py",
   "mimetype": "text/x-python",
   "name": "python",
   "nbconvert_exporter": "python",
   "pygments_lexer": "ipython3",
   "version": "3.8.5"
  }
 },
 "nbformat": 4,
 "nbformat_minor": 2
}
